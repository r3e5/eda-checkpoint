{
 "cells": [
  {
   "attachments": {},
   "cell_type": "markdown",
   "metadata": {
    "azdata_cell_guid": "151601c9-ca7a-412e-af80-c62a87e0837e"
   },
   "source": [
    "# Checkpoint Two: Exploratory Data Analysis\n",
    "\n",
    "Now that your chosen dataset is approved, it is time to start working on your analysis. Use this notebook to perform your EDA and make notes where directed to as you work.\n",
    "\n",
    "## Getting Started\n",
    "\n",
    "Since we have not provided your dataset for you, you will need to load the necessary files in this repository. Make sure to include a link back to the original dataset here as well.\n",
    "\n",
    "My dataset: https://www.kaggle.com/datasets/nhtsa/safety-recalls?resource=download\n",
    "\n",
    "Your first task in EDA is to import necessary libraries and create a dataframe(s). Make note in the form of code comments of what your thought process is as you work on this setup task."
   ]
  },
  {
   "cell_type": "code",
   "execution_count": 4,
   "metadata": {
    "azdata_cell_guid": "7b503e37-6df5-4433-acfb-678b1346db14"
   },
   "outputs": [
    {
     "data": {
      "text/html": [
       "<div>\n",
       "<style scoped>\n",
       "    .dataframe tbody tr th:only-of-type {\n",
       "        vertical-align: middle;\n",
       "    }\n",
       "\n",
       "    .dataframe tbody tr th {\n",
       "        vertical-align: top;\n",
       "    }\n",
       "\n",
       "    .dataframe thead th {\n",
       "        text-align: right;\n",
       "    }\n",
       "</style>\n",
       "<table border=\"1\" class=\"dataframe\">\n",
       "  <thead>\n",
       "    <tr style=\"text-align: right;\">\n",
       "      <th></th>\n",
       "      <th>Record ID</th>\n",
       "      <th>NHTSA Campaign</th>\n",
       "      <th>Manufacturer Campaign</th>\n",
       "      <th>Vehicle Make</th>\n",
       "      <th>Vehicle Model</th>\n",
       "      <th>Model Year</th>\n",
       "      <th>Vehicle Manufacturer</th>\n",
       "      <th>Recall Type</th>\n",
       "      <th>Recall Component</th>\n",
       "      <th>Manufacture Start Date</th>\n",
       "      <th>Manufacture End Date</th>\n",
       "      <th>Estimated Units</th>\n",
       "      <th>Recall Initiative</th>\n",
       "      <th>Recall Manufacturer</th>\n",
       "      <th>Recall Notification Date</th>\n",
       "    </tr>\n",
       "  </thead>\n",
       "  <tbody>\n",
       "    <tr>\n",
       "      <th>0</th>\n",
       "      <td>1</td>\n",
       "      <td>02V288000</td>\n",
       "      <td>02S41</td>\n",
       "      <td>FORD</td>\n",
       "      <td>FOCUS</td>\n",
       "      <td>2001</td>\n",
       "      <td>FORD MOTOR COMPANY</td>\n",
       "      <td>VEHICLE</td>\n",
       "      <td>ELECTRICAL SYSTEM:BATTERY:CABLES</td>\n",
       "      <td>19990719.0</td>\n",
       "      <td>20010531.0</td>\n",
       "      <td>291854.0</td>\n",
       "      <td>ODI</td>\n",
       "      <td>FORD MOTOR COMPANY</td>\n",
       "      <td>20030210.0</td>\n",
       "    </tr>\n",
       "    <tr>\n",
       "      <th>1</th>\n",
       "      <td>2</td>\n",
       "      <td>02V288000</td>\n",
       "      <td>02S41</td>\n",
       "      <td>FORD</td>\n",
       "      <td>FOCUS</td>\n",
       "      <td>2000</td>\n",
       "      <td>FORD MOTOR COMPANY</td>\n",
       "      <td>VEHICLE</td>\n",
       "      <td>ELECTRICAL SYSTEM:BATTERY:CABLES</td>\n",
       "      <td>19990719.0</td>\n",
       "      <td>20010531.0</td>\n",
       "      <td>291854.0</td>\n",
       "      <td>ODI</td>\n",
       "      <td>FORD MOTOR COMPANY</td>\n",
       "      <td>20030210.0</td>\n",
       "    </tr>\n",
       "    <tr>\n",
       "      <th>2</th>\n",
       "      <td>3</td>\n",
       "      <td>02V236000</td>\n",
       "      <td>NaN</td>\n",
       "      <td>JAYCO</td>\n",
       "      <td>FT EAGLE 10 SG</td>\n",
       "      <td>2003</td>\n",
       "      <td>JAYCO, INC.</td>\n",
       "      <td>VEHICLE</td>\n",
       "      <td>EQUIPMENT:OTHER:LABELS</td>\n",
       "      <td>20020730.0</td>\n",
       "      <td>20020813.0</td>\n",
       "      <td>86.0</td>\n",
       "      <td>MFR</td>\n",
       "      <td>JAYCO, INC.</td>\n",
       "      <td>20020923.0</td>\n",
       "    </tr>\n",
       "    <tr>\n",
       "      <th>3</th>\n",
       "      <td>4</td>\n",
       "      <td>02V237000</td>\n",
       "      <td>NaN</td>\n",
       "      <td>HOLIDAY RAMBLER</td>\n",
       "      <td>ADMIRAL SE</td>\n",
       "      <td>2003</td>\n",
       "      <td>MONACO COACH CORP.</td>\n",
       "      <td>VEHICLE</td>\n",
       "      <td>STRUCTURE</td>\n",
       "      <td>NaN</td>\n",
       "      <td>NaN</td>\n",
       "      <td>6223.0</td>\n",
       "      <td>MFR</td>\n",
       "      <td>MONACO COACH CORPORATION</td>\n",
       "      <td>20021105.0</td>\n",
       "    </tr>\n",
       "    <tr>\n",
       "      <th>4</th>\n",
       "      <td>5</td>\n",
       "      <td>02V237000</td>\n",
       "      <td>NaN</td>\n",
       "      <td>HOLIDAY RAMBLER</td>\n",
       "      <td>ADMIRAL SE</td>\n",
       "      <td>2002</td>\n",
       "      <td>MONACO COACH CORP.</td>\n",
       "      <td>VEHICLE</td>\n",
       "      <td>STRUCTURE</td>\n",
       "      <td>NaN</td>\n",
       "      <td>NaN</td>\n",
       "      <td>6223.0</td>\n",
       "      <td>MFR</td>\n",
       "      <td>MONACO COACH CORPORATION</td>\n",
       "      <td>20021105.0</td>\n",
       "    </tr>\n",
       "  </tbody>\n",
       "</table>\n",
       "</div>"
      ],
      "text/plain": [
       "   Record ID NHTSA Campaign Manufacturer Campaign     Vehicle Make  \\\n",
       "0          1      02V288000                 02S41             FORD   \n",
       "1          2      02V288000                 02S41             FORD   \n",
       "2          3      02V236000                   NaN            JAYCO   \n",
       "3          4      02V237000                   NaN  HOLIDAY RAMBLER   \n",
       "4          5      02V237000                   NaN  HOLIDAY RAMBLER   \n",
       "\n",
       "    Vehicle Model  Model Year Vehicle Manufacturer Recall Type  \\\n",
       "0           FOCUS        2001   FORD MOTOR COMPANY     VEHICLE   \n",
       "1           FOCUS        2000   FORD MOTOR COMPANY     VEHICLE   \n",
       "2  FT EAGLE 10 SG        2003          JAYCO, INC.     VEHICLE   \n",
       "3      ADMIRAL SE        2003   MONACO COACH CORP.     VEHICLE   \n",
       "4      ADMIRAL SE        2002   MONACO COACH CORP.     VEHICLE   \n",
       "\n",
       "                   Recall Component  Manufacture Start Date  \\\n",
       "0  ELECTRICAL SYSTEM:BATTERY:CABLES              19990719.0   \n",
       "1  ELECTRICAL SYSTEM:BATTERY:CABLES              19990719.0   \n",
       "2            EQUIPMENT:OTHER:LABELS              20020730.0   \n",
       "3                         STRUCTURE                     NaN   \n",
       "4                         STRUCTURE                     NaN   \n",
       "\n",
       "   Manufacture End Date  Estimated Units Recall Initiative  \\\n",
       "0            20010531.0         291854.0               ODI   \n",
       "1            20010531.0         291854.0               ODI   \n",
       "2            20020813.0             86.0               MFR   \n",
       "3                   NaN           6223.0               MFR   \n",
       "4                   NaN           6223.0               MFR   \n",
       "\n",
       "        Recall Manufacturer  Recall Notification Date  \n",
       "0        FORD MOTOR COMPANY                20030210.0  \n",
       "1        FORD MOTOR COMPANY                20030210.0  \n",
       "2               JAYCO, INC.                20020923.0  \n",
       "3  MONACO COACH CORPORATION                20021105.0  \n",
       "4  MONACO COACH CORPORATION                20021105.0  "
      ]
     },
     "execution_count": 4,
     "metadata": {},
     "output_type": "execute_result"
    }
   ],
   "source": [
    "import pandas as pd\n",
    "import numpy as np\n",
    "import matplotlib.pyplot as plt\n",
    "# These are just the ones I've used most often.\n",
    "data = pd.read_csv('fordrecalls.csv')\n",
    "data.head()"
   ]
  },
  {
   "attachments": {},
   "cell_type": "markdown",
   "metadata": {
    "azdata_cell_guid": "129ce836-524b-4ea8-b394-a959f9308d6a"
   },
   "source": [
    "## Get to Know the Numbers\n",
    "\n",
    "Now that you have everything setup, put any code that you use to get to know the dataframe and its rows and columns better in the cell below. You can use whatever techniques you like, except for visualizations. You will put those in a separate section.\n",
    "\n",
    "When working on your code, make sure to leave comments so that your mentors can understand your thought process."
   ]
  },
  {
   "cell_type": "code",
   "execution_count": 3,
   "metadata": {
    "azdata_cell_guid": "0ca2d318-f6e8-43ef-a33e-5304d24d928d",
    "tags": []
   },
   "outputs": [
    {
     "name": "stdout",
     "output_type": "stream",
     "text": [
      "Record ID - 0%\n",
      "NHTSA Campaign - 0%\n",
      "Manufacturer Campaign - 66%\n",
      "Vehicle Make - 0%\n",
      "Vehicle Model - 0%\n",
      "Model Year - 0%\n",
      "Vehicle Manufacturer - 0%\n",
      "Recall Type - 0%\n",
      "Recall Component - 0%\n",
      "Manufacture Start Date - 26%\n",
      "Manufacture End Date - 26%\n",
      "Estimated Units - 0%\n",
      "Recall Initiative - 0%\n",
      "Recall Manufacturer - 0%\n",
      "Recall Notification Date - 9%\n"
     ]
    }
   ],
   "source": [
    "for col in data.columns:\n",
    "    pct_missing = np.mean(data[col].isnull())\n",
    "    print('{} - {}%'.format(col, round(pct_missing*100)))\n",
    "# I expected some nulls, but not quite that many in the manufaturer campaiagn."
   ]
  },
  {
   "cell_type": "code",
   "execution_count": 5,
   "metadata": {
    "azdata_cell_guid": "0ca2d318-f6e8-43ef-a33e-5304d24d928d",
    "tags": []
   },
   "outputs": [
    {
     "data": {
      "text/plain": [
       "Index(['Record ID', 'NHTSA Campaign', 'Manufacturer Campaign', 'Vehicle Make',\n",
       "       'Vehicle Model', 'Model Year', 'Vehicle Manufacturer', 'Recall Type',\n",
       "       'Recall Component', 'Manufacture Start Date', 'Manufacture End Date',\n",
       "       'Estimated Units', 'Recall Initiative', 'Recall Manufacturer',\n",
       "       'Recall Notification Date'],\n",
       "      dtype='object')"
      ]
     },
     "execution_count": 5,
     "metadata": {},
     "output_type": "execute_result"
    }
   ],
   "source": [
    "# data.shape\n",
    "data.columns\n",
    "# data.info()\n",
    "# data.describe()\n",
    "# Seeing the model year max is 9999 shows some obvious errors so that will have to be cleaned up. "
   ]
  },
  {
   "attachments": {},
   "cell_type": "markdown",
   "metadata": {
    "azdata_cell_guid": "d45060f3-97bc-484a-9ef4-66145bbe9427"
   },
   "source": [
    "## Visualize\n",
    "\n",
    "Create any visualizations for your EDA here. Make note in the form of code comments of what your thought process is for your visualizations."
   ]
  },
  {
   "cell_type": "code",
   "execution_count": 6,
   "metadata": {
    "azdata_cell_guid": "f4565b03-759a-47a8-b58f-01b32a0b4b67"
   },
   "outputs": [
    {
     "data": {
      "image/png": "[encoded data removed]",
      "text/plain": [
       "<Figure size 640x480 with 1 Axes>"
      ]
     },
     "metadata": {},
     "output_type": "display_data"
    }
   ],
   "source": [
    "recalls_by_model = data.groupby('Vehicle Manufacturer')['Record ID'].count()\n",
    "\n",
    "models = recalls_by_model.index\n",
    "recall_count = recalls_by_model.values\n",
    "\n",
    "plt.bar(models,recall_count)\n",
    "plt.title('Recalls by Vehicle Manufaturer')\n",
    "plt.xlabel('Vehicle Models')\n",
    "plt.ylabel('Number of Recalls')\n",
    "plt.show()\n",
    "\n",
    "#This doesnt give any obvious details BUT it shows me some manufacturer has drastically more recalls. "
   ]
  },
  {
   "cell_type": "code",
   "execution_count": 16,
   "metadata": {
    "azdata_cell_guid": "cd64bab1-db4c-4295-820d-c6464b653a3e"
   },
   "outputs": [
    {
     "data": {
      "image/png": "[encoded data removed]",
      "text/plain": [
       "<Figure size 640x480 with 1 Axes>"
      ]
     },
     "metadata": {},
     "output_type": "display_data"
    }
   ],
   "source": [
    "recall_type_counts = data['Recall Type'].value_counts()\n",
    "\n",
    "recall_type = recall_type_counts.index\n",
    "recall_counts = recall_type_counts.values\n",
    "\n",
    "plt.bar(recall_type,recall_counts)\n",
    "plt.title('Recalls by Type')\n",
    "plt.xlabel('Recall Type')\n",
    "plt.ylabel('Number of Recalls')\n",
    "plt.show()\n"
   ]
  },
  {
   "cell_type": "markdown",
   "metadata": {
    "azdata_cell_guid": "d4931c0c-2c09-4ee1-95d4-73dd08c2f0a6"
   },
   "source": [
    "## Summarize Your Results\n",
    "\n",
    "With your EDA complete, answer the following questions.\n",
    "\n",
    "1. Was there anything surprising about your dataset? The manufacturer campaign column seems fairly slim.\n",
    "2. Do you have any concerns about your dataset? I dont know what some of the recall types me (C,I,X) and they dont seem to be defined on kaggle so ill have to google that.\n",
    "3. Is there anything you want to make note of for the next phase of your analysis, which is cleaning data? I'll have to replace the nulls in the manufacturer campaign column if that even relevant and the vehicle's model years will need to be cleaned to eliminate some of the unrealistic years. "
   ]
  },
  {
   "cell_type": "code",
   "execution_count": null,
   "metadata": {},
   "outputs": [],
   "source": []
  }
 ],
 "metadata": {
  "kernelspec": {
   "display_name": "Python 3 (ipykernel)",
   "language": "python",
   "name": "python3"
  },
  "language_info": {
   "codemirror_mode": {
    "name": "ipython",
    "version": 3
   },
   "file_extension": ".py",
   "mimetype": "text/x-python",
   "name": "python",
   "nbconvert_exporter": "python",
   "pygments_lexer": "ipython3",
   "version": "3.12.5"
  }
 },
 "nbformat": 4,
 "nbformat_minor": 4
}
